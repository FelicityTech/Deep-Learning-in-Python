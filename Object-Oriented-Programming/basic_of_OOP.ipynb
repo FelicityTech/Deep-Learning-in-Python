{
 "cells": [
  {
   "cell_type": "code",
   "execution_count": 1,
   "metadata": {},
   "outputs": [
    {
     "name": "stdout",
     "output_type": "stream",
     "text": [
      "Korel Rossi\n"
     ]
    }
   ],
   "source": [
    "# Include a set_name method\n",
    "class Employee:\n",
    "  \n",
    "  def set_name(self, new_name):\n",
    "    self.name = new_name\n",
    "  \n",
    "# Create an object emp of class Employee  \n",
    "emp = Employee()\n",
    "\n",
    "# Use set_name() on emp to set the name of emp to 'Korel Rossi'\n",
    "emp.set_name('Korel Rossi')\n",
    "\n",
    "# Print the name of emp\n",
    "print(emp.name)"
   ]
  },
  {
   "cell_type": "code",
   "execution_count": 4,
   "id": "a4c402a9",
   "metadata": {},
   "outputs": [
    {
     "name": "stdout",
     "output_type": "stream",
     "text": [
      "50000\n"
     ]
    }
   ],
   "source": [
    "class Employee:\n",
    "  \n",
    "  def set_name(self, new_name):\n",
    "    self.name = new_name\n",
    "  \n",
    "  # Add set_salary() method\n",
    "  def set_salary(self, new_salary):\n",
    "    self.salary = new_salary\n",
    "  \n",
    "  \n",
    "# Create an object emp of class Employee  \n",
    "emp = Employee()\n",
    "\n",
    "# Use set_name to set the name of emp to 'Korel Rossi'\n",
    "emp.set_name('Korel Rossi')\n",
    "\n",
    "# Set the salary of emp to 50000\n",
    "emp.set_salary(50000)\n",
    "print(emp.salary)"
   ]
  },
  {
   "cell_type": "code",
   "execution_count": 5,
   "id": "e080f1b4",
   "metadata": {},
   "outputs": [
    {
     "name": "stdout",
     "output_type": "stream",
     "text": [
      "50000\n",
      "51500\n"
     ]
    }
   ],
   "source": [
    "class Employee:\n",
    "    def set_name(self, new_name):\n",
    "        self.name = new_name\n",
    "\n",
    "    def set_salary(self, new_salary):\n",
    "        self.salary = new_salary \n",
    "  \n",
    "emp = Employee()\n",
    "emp.set_name('Korel Rossi')\n",
    "emp.set_salary(50000)\n",
    "\n",
    "# Print the salary attribute of emp\n",
    "print(emp.salary)\n",
    "\n",
    "# Increase salary of emp by 1500\n",
    "emp.salary = emp.salary + 1500\n",
    "# Print the salary attribute of emp again\n",
    "print(emp.salary)"
   ]
  },
  {
   "cell_type": "code",
   "execution_count": 6,
   "id": "fa06b217",
   "metadata": {},
   "outputs": [
    {
     "name": "stdout",
     "output_type": "stream",
     "text": [
      "50000\n",
      "51500\n"
     ]
    }
   ],
   "source": [
    "class Employee:\n",
    "    def set_name(self, new_name):\n",
    "        self.name = new_name\n",
    "\n",
    "    def set_salary(self, new_salary):\n",
    "        self.salary = new_salary \n",
    "\n",
    "    # Add a give_raise() method with raise amount as a parameter\n",
    "    def give_raise(self, raise_amount):\n",
    "        self.salary = self.salary + raise_amount\n",
    "\n",
    "emp = Employee()\n",
    "emp.set_name('Korel Rossi')\n",
    "emp.set_salary(50000)\n",
    "\n",
    "print(emp.salary)\n",
    "emp.give_raise(1500)\n",
    "print(emp.salary)"
   ]
  },
  {
   "cell_type": "code",
   "execution_count": 7,
   "id": "da94027c",
   "metadata": {},
   "outputs": [
    {
     "name": "stdout",
     "output_type": "stream",
     "text": [
      "4166.666666666667\n"
     ]
    }
   ],
   "source": [
    "class Employee:\n",
    "    def set_name(self, new_name):\n",
    "        self.name = new_name\n",
    "\n",
    "    def set_salary(self, new_salary):\n",
    "        self.salary = new_salary \n",
    "\n",
    "    def give_raise(self, amount):\n",
    "        self.salary = self.salary + amount\n",
    "\n",
    "    # Add monthly_salary method that returns 1/12th of salary attribute\n",
    "    def monthly_salary(self):\n",
    "       return self.salary / 12\n",
    "\n",
    "    \n",
    "emp = Employee()\n",
    "emp.set_name('Korel Rossi')\n",
    "emp.set_salary(50000)\n",
    "\n",
    "# Get monthly salary of emp and assign to mon_sal\n",
    "mon_sal = emp.monthly_salary()\n",
    "\n",
    "# Print mon_sal\n",
    "print(mon_sal)"
   ]
  },
  {
   "cell_type": "code",
   "execution_count": 8,
   "id": "57065b53",
   "metadata": {},
   "outputs": [
    {
     "name": "stdout",
     "output_type": "stream",
     "text": [
      "Korel Rossi\n",
      "0\n"
     ]
    }
   ],
   "source": [
    "class Employee:\n",
    "    # Create __init__() method\n",
    "    def __init__(self, name, salary=0):\n",
    "        # Create the name and salary attributes\n",
    "        self.name = name\n",
    "        self.salary = salary\n",
    "    \n",
    "    # From the previous lesson\n",
    "    def give_raise(self, amount):\n",
    "        self.salary += amount\n",
    "\n",
    "    def monthly_salary(self):\n",
    "        return self.salary/12\n",
    "        \n",
    "emp = Employee(\"Korel Rossi\")\n",
    "print(emp.name)\n",
    "print(emp.salary)     "
   ]
  },
  {
   "cell_type": "code",
   "execution_count": 9,
   "id": "0d20d940",
   "metadata": {},
   "outputs": [
    {
     "name": "stdout",
     "output_type": "stream",
     "text": [
      "Invalid salary!\n",
      "Korel Rossi\n",
      "0\n"
     ]
    }
   ],
   "source": [
    "class Employee:\n",
    "  \n",
    "    def __init__(self, name, salary=0):\n",
    "        self.name = name\n",
    "        # Modify code below to check if salary is positive\n",
    "        if salary > 0:\n",
    "            self.salary = salary\n",
    "        else:\n",
    "            self.salary = 0\n",
    "            print(\"Invalid salary!\")\n",
    "   \n",
    "   # ...Other methods omitted for brevity ...\n",
    "      \n",
    "emp = Employee(\"Korel Rossi\", -1000)\n",
    "print(emp.name)\n",
    "print(emp.salary)"
   ]
  },
  {
   "cell_type": "code",
   "execution_count": 10,
   "id": "32ec6cde",
   "metadata": {},
   "outputs": [
    {
     "name": "stdout",
     "output_type": "stream",
     "text": [
      "Invalid salary!\n",
      "Korel Rossi\n",
      "0\n",
      "2025-10-02 11:22:39.923911\n"
     ]
    }
   ],
   "source": [
    "# Import datetime from datetime\n",
    "from datetime import datetime\n",
    "\n",
    "class Employee:\n",
    "    \n",
    "    def __init__(self, name, salary=0):\n",
    "        self.name = name\n",
    "        if salary > 0:\n",
    "          self.salary = salary\n",
    "        else:\n",
    "          self.salary = 0\n",
    "          print(\"Invalid salary!\")\n",
    "          \n",
    "        # Add the hire_date attribute and set it to today's date\n",
    "        self.hire_date = datetime.today()\n",
    "        \n",
    "   # ...Other methods omitted for brevity ...\n",
    "      \n",
    "emp = Employee(\"Korel Rossi\", -1000)\n",
    "print(emp.name)\n",
    "print(emp.salary)\n",
    "print(emp.hire_date)"
   ]
  }
 ],
 "metadata": {
  "kernelspec": {
   "display_name": "codemode",
   "language": "python",
   "name": "python3"
  },
  "language_info": {
   "codemirror_mode": {
    "name": "ipython",
    "version": 3
   },
   "file_extension": ".py",
   "mimetype": "text/x-python",
   "name": "python",
   "nbconvert_exporter": "python",
   "pygments_lexer": "ipython3",
   "version": "3.13.5"
  }
 },
 "nbformat": 4,
 "nbformat_minor": 5
}
