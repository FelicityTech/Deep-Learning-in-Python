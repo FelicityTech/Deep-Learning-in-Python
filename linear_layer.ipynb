{
 "cells": [
  {
   "cell_type": "code",
   "execution_count": null,
   "id": "ae4dc60f",
   "metadata": {},
   "outputs": [],
   "source": [
    "import torch\n",
    "import torch.nn as nn\n",
    "\n",
    "input_tensor = torch.tensor([[0.3471, 0.4547, -0.2356]])\n",
    "\n",
    "# Create a Linear layer\n",
    "linear_layer = nn.Linear(\n",
    "                         in_features=3, \n",
    "                         out_features=2\n",
    "                         )\n",
    "\n",
    "# Pass input_tensor through the linear layer\n",
    "output = linear_layer(input_tensor)\n",
    "\n",
    "print(output)"
   ]
  }
 ],
 "metadata": {
  "language_info": {
   "name": "python"
  }
 },
 "nbformat": 4,
 "nbformat_minor": 5
}
