{
 "cells": [
  {
   "cell_type": "code",
   "execution_count": null,
   "id": "ffed5c1d",
   "metadata": {},
   "outputs": [],
   "source": [
    "import pandas as pd\n",
    "import numpy as np\n",
    "\n",
    "pf = pd.read_csv"
   ]
  },
  {
   "cell_type": "code",
   "execution_count": null,
   "id": "e6d17a79",
   "metadata": {},
   "outputs": [],
   "source": [
    "import torch\n",
    "from torch.utils.data import TensorDataset\n",
    "\n",
    "X = animals.iloc[:, 1:-1].to_numpy()  \n",
    "y = animals.iloc[:, -1].to_numpy()\n",
    "\n",
    "# Create a dataset\n",
    "dataset = TensorDataset(torch.tensor(X), torch.tensor(y))\n",
    "\n",
    "# Print the first sample\n",
    "input_sample, label_sample = dataset[0]\n",
    "print('Input sample:', input_sample)\n",
    "print('Label sample:', label_sample)"
   ]
  },
  {
   "cell_type": "markdown",
   "id": "cdcc37c9",
   "metadata": {},
   "source": [
    "# Using dataloader DataLoader"
   ]
  },
  {
   "cell_type": "code",
   "execution_count": null,
   "id": "9c1680a2",
   "metadata": {},
   "outputs": [],
   "source": [
    "from torch.utils.data import DataLoader\n",
    "\n",
    "# Create a DataLoader\n",
    "dataloader = DataLoader(dataset, batch_size=2, shuffle=True)\n",
    "\n",
    "# Iterate over the dataloader\n",
    "for batch_inputs, batch_labels in dataloader:\n",
    "    print('batch_inputs:', batch_inputs)\n",
    "    print('batch_labels:', batch_labels)"
   ]
  },
  {
   "cell_type": "markdown",
   "id": "e568f0ad",
   "metadata": {},
   "source": [
    "# Using the MSELoss"
   ]
  },
  {
   "cell_type": "code",
   "execution_count": null,
   "id": "f57f30bf",
   "metadata": {},
   "outputs": [],
   "source": [
    "y_pred = np.array([3, 5.0, 2.5, 7.0])  \n",
    "y = np.array([3.0, 4.5, 2.0, 8.0])     \n",
    "\n",
    "# Calculate MSE using NumPy\n",
    "mse_numpy = np.mean((y_pred - y) ** 2)\n",
    "\n",
    "# Create the MSELoss function in PyTorch\n",
    "criterion = nn.MSELoss()\n",
    "\n",
    "# Calculate MSE using PyTorch\n",
    "mse_pytorch = criterion(torch.tensor(y_pred).float(), torch.tensor(y).float())\n",
    "\n",
    "print(\"MSE (NumPy):\", mse_numpy)\n",
    "print(\"MSE (PyTorch):\", mse_pytorch)"
   ]
  },
  {
   "cell_type": "markdown",
   "id": "aacfba93",
   "metadata": {},
   "source": [
    "# Writing a training loop"
   ]
  },
  {
   "cell_type": "code",
   "execution_count": null,
   "id": "8694a8d9",
   "metadata": {},
   "outputs": [],
   "source": [
    "# Loop over the number of epochs and the dataloader\n",
    "for i in range(num_epochs):\n",
    "  for data in dataloader:\n",
    "    # Set the gradients to zero\n",
    "    optimizer.zero_grad()\n",
    "    # Run a forward pass\n",
    "    feature, target = data\n",
    "    prediction = model(feature)    \n",
    "    # Compute the loss\n",
    "    loss = criterion(prediction, target)    \n",
    "    # Compute the gradients\n",
    "    loss.backward()\n",
    "    # Update the model's parameters\n",
    "    optimizer.step()\n",
    "show_results(model, dataloader)"
   ]
  },
  {
   "cell_type": "markdown",
   "id": "a3b536a3",
   "metadata": {},
   "source": [
    "## Implementing ReLU\n",
    "- The Rectified Linear Unit (ReLU) is a widely-used activation function in deep learning, solving challenges like the vanishing gradients problem."
   ]
  },
  {
   "cell_type": "code",
   "execution_count": null,
   "id": "13b5392c",
   "metadata": {},
   "outputs": [],
   "source": [
    "# Create a ReLU function with PyTorch\n",
    "relu_pytorch = nn.ReLU()\n",
    "\n",
    "x_pos = torch.tensor(2.0)\n",
    "x_neg = torch.tensor(-3.0)\n",
    "\n",
    "# Apply the ReLU function to the tensors\n",
    "output_pos = relu_pytorch(x_pos)\n",
    "output_neg = relu_pytorch(x_neg)\n",
    "\n",
    "print(\"ReLU applied to positive value:\", output_pos)\n",
    "print(\"ReLU applied to negative value:\", output_neg)"
   ]
  },
  {
   "cell_type": "markdown",
   "id": "fc57a6c1",
   "metadata": {},
   "source": [
    "## Implementing leaky ReLU\n",
    "- While ReLU is widely used, it sets negative inputs to 0, resulting in null gradients for those values. This can prevent parts of the model from learning.\n",
    "\n",
    "- Leaky ReLU overcomes this by allowing small gradients for negative inputs, controlled by the negative_slope parameter. Instead of 0, negative inputs are scaled by this small value, keeping the model's learning active."
   ]
  },
  {
   "cell_type": "code",
   "execution_count": null,
   "id": "35c8cfd6",
   "metadata": {},
   "outputs": [],
   "source": [
    "# Create a leaky relu function in PyTorch\n",
    "leaky_relu_pytorch = nn.LeakyReLU(negative_slope = 0.05)\n",
    "\n",
    "x = torch.tensor(-2.0)\n",
    "# Call the above function on the tensor x\n",
    "output = leaky_relu_pytorch(x)\n",
    "print(output)"
   ]
  },
  {
   "cell_type": "markdown",
   "id": "bcec3e0c",
   "metadata": {},
   "source": [
    "## Experimenting with learning rate and Momentum\n",
    "- In this exercise, your goal is to find the optimal learning rate such that the optimizer can find the minimum of the non-convex function \n",
    " in ten steps.\n",
    "\n",
    "- You will experiment with three different learning rate values. For this problem, try learning rate values between 0.001 to 0.1.\n",
    "\n"
   ]
  },
  {
   "cell_type": "code",
   "execution_count": null,
   "id": "b55aa977",
   "metadata": {},
   "outputs": [],
   "source": []
  },
  {
   "cell_type": "markdown",
   "id": "eb5f9770",
   "metadata": {},
   "source": [
    "- Try a small learning rate value such that the optimizer isn't able to get past the first minimum on the right.\n",
    "\n"
   ]
  },
  {
   "cell_type": "code",
   "execution_count": null,
   "id": "b6514f8c",
   "metadata": {},
   "outputs": [
    {
     "name": "stderr",
     "output_type": "stream",
     "text": [
      "\n",
      "KeyboardInterrupt\n",
      "\n"
     ]
    }
   ],
   "source": [
    "# Try a first learning rate value\n",
    "lr0 = 0.08\n",
    "optimize_and_plot(lr=lr0)"
   ]
  },
  {
   "cell_type": "markdown",
   "id": "62fd59e5",
   "metadata": {},
   "source": [
    "- Try a large learning rate value such that the optimizer skips past the global minimum at -2."
   ]
  },
  {
   "cell_type": "code",
   "execution_count": null,
   "id": "638353dc",
   "metadata": {},
   "outputs": [],
   "source": [
    "# Try a second learning rate value\n",
    "lr1 = 0.1\n",
    "optimize_and_plot(lr=lr1)"
   ]
  },
  {
   "cell_type": "markdown",
   "id": "eca608b2",
   "metadata": {},
   "source": [
    "\n",
    "- Based on the previous results, try a better learning rate value.\n",
    "\n"
   ]
  },
  {
   "cell_type": "code",
   "execution_count": null,
   "id": "7d622fd4",
   "metadata": {},
   "outputs": [],
   "source": [
    "# Try a third learning rate value\n",
    "lr2 = 0.09\n",
    "optimize_and_plot(lr=lr2)"
   ]
  }
 ],
 "metadata": {
  "kernelspec": {
   "display_name": "codemode",
   "language": "python",
   "name": "python3"
  },
  "language_info": {
   "codemirror_mode": {
    "name": "ipython",
    "version": 3
   },
   "file_extension": ".py",
   "mimetype": "text/x-python",
   "name": "python",
   "nbconvert_exporter": "python",
   "pygments_lexer": "ipython3",
   "version": "3.13.5"
  }
 },
 "nbformat": 4,
 "nbformat_minor": 5
}
