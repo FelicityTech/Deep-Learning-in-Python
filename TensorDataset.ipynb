{
 "cells": [
  {
   "cell_type": "code",
   "execution_count": null,
   "id": "ffed5c1d",
   "metadata": {},
   "outputs": [],
   "source": [
    "import pandas as pd\n",
    "import numpy as np\n",
    "\n",
    "pf = pd.read_csv"
   ]
  },
  {
   "cell_type": "code",
   "execution_count": null,
   "id": "e6d17a79",
   "metadata": {},
   "outputs": [],
   "source": [
    "import torch\n",
    "from torch.utils.data import TensorDataset\n",
    "\n",
    "X = animals.iloc[:, 1:-1].to_numpy()  \n",
    "y = animals.iloc[:, -1].to_numpy()\n",
    "\n",
    "# Create a dataset\n",
    "dataset = TensorDataset(torch.tensor(X), torch.tensor(y))\n",
    "\n",
    "# Print the first sample\n",
    "input_sample, label_sample = dataset[0]\n",
    "print('Input sample:', input_sample)\n",
    "print('Label sample:', label_sample)"
   ]
  },
  {
   "cell_type": "markdown",
   "id": "cdcc37c9",
   "metadata": {},
   "source": [
    "# Using dataloader DataLoader"
   ]
  },
  {
   "cell_type": "code",
   "execution_count": null,
   "id": "9c1680a2",
   "metadata": {},
   "outputs": [],
   "source": [
    "from torch.utils.data import DataLoader\n",
    "\n",
    "# Create a DataLoader\n",
    "dataloader = DataLoader(dataset, batch_size=2, shuffle=True)\n",
    "\n",
    "# Iterate over the dataloader\n",
    "for batch_inputs, batch_labels in dataloader:\n",
    "    print('batch_inputs:', batch_inputs)\n",
    "    print('batch_labels:', batch_labels)"
   ]
  },
  {
   "cell_type": "markdown",
   "id": "e568f0ad",
   "metadata": {},
   "source": [
    "# Using the MSELoss"
   ]
  },
  {
   "cell_type": "code",
   "execution_count": null,
   "id": "f57f30bf",
   "metadata": {},
   "outputs": [],
   "source": [
    "y_pred = np.array([3, 5.0, 2.5, 7.0])  \n",
    "y = np.array([3.0, 4.5, 2.0, 8.0])     \n",
    "\n",
    "# Calculate MSE using NumPy\n",
    "mse_numpy = np.mean((y_pred - y) ** 2)\n",
    "\n",
    "# Create the MSELoss function in PyTorch\n",
    "criterion = nn.MSELoss()\n",
    "\n",
    "# Calculate MSE using PyTorch\n",
    "mse_pytorch = criterion(torch.tensor(y_pred).float(), torch.tensor(y).float())\n",
    "\n",
    "print(\"MSE (NumPy):\", mse_numpy)\n",
    "print(\"MSE (PyTorch):\", mse_pytorch)"
   ]
  }
 ],
 "metadata": {
  "kernelspec": {
   "display_name": "codemode",
   "language": "python",
   "name": "python3"
  },
  "language_info": {
   "name": "python",
   "version": "3.13.5"
  }
 },
 "nbformat": 4,
 "nbformat_minor": 5
}
